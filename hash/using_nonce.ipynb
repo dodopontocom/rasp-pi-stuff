{
    "cells": [
        {
            "cell_type": "code",
            "execution_count": 1,
            "source": [
                "from hashlib import sha256\n",
                "import json\n",
                "import time\n",
                "\n"
            ],
            "outputs": [],
            "metadata": {}
        },
        {
            "cell_type": "code",
            "execution_count": 8,
            "source": [
                "\n",
                "chain = [\n",
                "\t{\n",
                "\t\t\"remetente\": \"Rafael Dias\",\n",
                "       \t\t\"destinatario\": \"Teste\",\n",
                "       \t\t\"mensagem\": \"600 Reais\"\n",
                "\t},\n",
                "\t{\n",
                "\t\t\"remetente\": \"TESTE\",\n",
                "\t       \t\"destinatario\": \"Fulano de Tal\",\n",
                "       \t\t\"mensagem\": \"700 Reais\"\n",
                "\t}\n",
                "]\n",
                "\n",
                "block_chain = []"
            ],
            "outputs": [],
            "metadata": {}
        },
        {
            "cell_type": "code",
            "execution_count": 3,
            "source": [
                "\n",
                "\n",
                "def get_time():\n",
                "\treturn time.time()\n",
                "\n",
                "def isValidHashDifficulty(hash, difficulty):\n",
                "\tcount = 0\n",
                "\tfor i in hash:\n",
                "\t\tcount += 1\n",
                "\t\tif(i != '0'):\n",
                "\t\t\tbreak\n",
                "\treturn count > difficulty\n",
                "\n",
                "def generate_hash(block):\n",
                "\tnonce = 0\n",
                "\tblock[\"nonce\"] = nonce\n",
                "\thash = sha256(json.dumps(block).encode()).hexdigest()\n",
                "\twhile(not isValidHashDifficulty(hash, 4)):\n",
                "\t\tnonce = nonce + 1\n",
                "\t\tblock[\"nonce\"] = nonce\n",
                "\t\thash = sha256(json.dumps(block).encode()).hexdigest()\n",
                "\t\t#hash = sha256(json.dumps(block)).hexdigest()\n",
                "\treturn hash\n",
                "\n",
                "\n",
                "def add_block(block):\n",
                "\tif(len(block_chain) == 0):\n",
                "\t\tblock[\"timestamp\"] = get_time()\n",
                "\t\tblock[\"hash\"] = generate_hash(block)\n",
                "\telse:\n",
                "\t\tblock[\"timestamp\"] = get_time()\n",
                "\t\tlast_block = block_chain[-1]\n",
                "\t\tblock[\"last_hash\"] = last_block[\"hash\"]\n",
                "\t\tblock[\"hash\"] = generate_hash(block)\n",
                "\tblock_chain.append(block)"
            ],
            "outputs": [],
            "metadata": {}
        },
        {
            "cell_type": "code",
            "execution_count": 9,
            "source": [
                "block_chain = []\n",
                "for c in chain:\n",
                "    \tadd_block(c)\n",
                "\n",
                "print(block_chain)"
            ],
            "outputs": [
                {
                    "output_type": "stream",
                    "name": "stdout",
                    "text": [
                        "[{'remetente': 'Rafael Dias', 'destinatario': 'Teste', 'mensagem': '600 Reais', 'timestamp': 1628469994.1738067, 'nonce': 3959, 'hash': '00004ac951624d30eca4e2d6c0c40af2fbdb97ad4aa6c1d1a519927faacc53a9'}, {'remetente': 'TESTE', 'destinatario': 'Fulano de Tal', 'mensagem': '700 Reais', 'timestamp': 1628469994.3760135, 'last_hash': '00004ac951624d30eca4e2d6c0c40af2fbdb97ad4aa6c1d1a519927faacc53a9', 'nonce': 190174, 'hash': '0000d88a5d793f906463ba9929a43e1f56d08806f6a7afa0d7a64c36ddcc4aec'}]\n"
                    ]
                }
            ],
            "metadata": {}
        }
    ],
    "metadata": {
        "orig_nbformat": 4,
        "language_info": {
            "name": "python",
            "version": "3.8.10",
            "mimetype": "text/x-python",
            "codemirror_mode": {
                "name": "ipython",
                "version": 3
            },
            "pygments_lexer": "ipython3",
            "nbconvert_exporter": "python",
            "file_extension": ".py"
        },
        "kernelspec": {
            "name": "python3",
            "display_name": "Python 3.8.10 64-bit"
        },
        "interpreter": {
            "hash": "31f2aee4e71d21fbe5cf8b01ff0e069b9275f58929596ceb00d14d90e3e16cd6"
        }
    },
    "nbformat": 4,
    "nbformat_minor": 2
}