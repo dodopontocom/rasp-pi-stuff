{
    "cells": [
        {
            "cell_type": "code",
            "execution_count": 1,
            "source": [
                "from hashlib import blake2b\n",
                "from hmac import compare_digest\n",
                "import json\n",
                "import time\n",
                "import subprocess"
            ],
            "outputs": [],
            "metadata": {}
        },
        {
            "cell_type": "code",
            "execution_count": 2,
            "source": [
                "ur = str(subprocess.getoutput('cat /dev/urandom | tr -dc \\'a-z0-9\\' | fold -w 32 | head -n 1'))\n",
                "S_KEY = ur + \"_\" + str(subprocess.getoutput('arch')) + \"_\" + str(subprocess.getoutput('lsb_release -cs'))\n",
                "SECRET_KEY = S_KEY.encode('utf-8')\n",
                "AUTH_SIZE = 32\n",
                "difficulty = 4"
            ],
            "outputs": [],
            "metadata": {}
        },
        {
            "cell_type": "code",
            "execution_count": 45,
            "source": [
                "f = open('sample.json',)\n",
                "#f = open('another_block.json',)\n",
                "_data = json.load(f)\n",
                "data = json.dumps(_data)\n",
                "print(data)"
            ],
            "outputs": [
                {
                    "output_type": "stream",
                    "name": "stdout",
                    "text": [
                        "[{\"remetente\": \"John\", \"destinatario\": \"Peter\", \"mensagem\": \"300\"}, {\"remetente\": \"Henry\", \"destinatario\": \"Paul\", \"mensagem\": \"120\"}]\n"
                    ]
                }
            ],
            "metadata": {}
        },
        {
            "cell_type": "code",
            "execution_count": 30,
            "source": [
                "block_chain = []"
            ],
            "outputs": [],
            "metadata": {}
        },
        {
            "cell_type": "code",
            "execution_count": 36,
            "source": [
                "def get_time():\n",
                "    return time.time()"
            ],
            "outputs": [],
            "metadata": {}
        },
        {
            "cell_type": "code",
            "execution_count": 41,
            "source": [
                "def isValidHashDifficulty(hash, difficulty):\n",
                "    count = 0\n",
                "    for i in hash:\n",
                "        count += 1\n",
                "        if(i != '0'):\n",
                "            break\n",
                "    return count > difficulty\n"
            ],
            "outputs": [],
            "metadata": {}
        },
        {
            "cell_type": "code",
            "execution_count": 42,
            "source": [
                "def sign(block):\n",
                "    nonce = 0\n",
                "    block[\"nonce\"] = nonce\n",
                "    h = blake2b(digest_size=AUTH_SIZE, key=SECRET_KEY)\n",
                "    h.update(block)\n",
                "    hash = h.hexdigest()\n",
                "    while(not isValidHashDifficulty(hash, difficulty)):\n",
                "        nonce = nonce + 1\n",
                "        block[\"nonce\"] = nonce\n",
                "        h.update(block)\n",
                "        hash = h.hexdigest()\n",
                "    return hash"
            ],
            "outputs": [],
            "metadata": {}
        },
        {
            "cell_type": "code",
            "execution_count": 50,
            "source": [
                "def add_block(block):\n",
                "    if (len(block_chain) == 0):\n",
                "        #block[\"hash\"] = sign(json.dumps(block).encode('utf-8'))\n",
                "        block[0] = sign(\"{\\'remetente\\': \\'John\\', \\'destinatario\\': \\'Peter\\', \\'mensagem\\': \\'300\\'}\".encode('utf-8'))\n",
                "        \n",
                "        \n",
                "    else:\n",
                "        block[0] = sign(json.dumps(block).encode('utf-8'))\n",
                "        \n",
                "        \n",
                "    block_chain.append(block)"
            ],
            "outputs": [],
            "metadata": {}
        },
        {
            "cell_type": "code",
            "execution_count": 51,
            "source": [
                "for t in data['transactions']:\n",
                "    print(\"===\")\n",
                "    print(t)\n",
                "    add_block(t)"
            ],
            "outputs": [
                {
                    "output_type": "error",
                    "ename": "TypeError",
                    "evalue": "string indices must be integers",
                    "traceback": [
                        "\u001b[0;31m---------------------------------------------------------------------------\u001b[0m",
                        "\u001b[0;31mTypeError\u001b[0m                                 Traceback (most recent call last)",
                        "\u001b[0;32m/tmp/ipykernel_680900/4056456823.py\u001b[0m in \u001b[0;36m<module>\u001b[0;34m\u001b[0m\n\u001b[0;32m----> 1\u001b[0;31m \u001b[0;32mfor\u001b[0m \u001b[0mt\u001b[0m \u001b[0;32min\u001b[0m \u001b[0mdata\u001b[0m\u001b[0;34m[\u001b[0m\u001b[0;34m'transactions'\u001b[0m\u001b[0;34m]\u001b[0m\u001b[0;34m:\u001b[0m\u001b[0;34m\u001b[0m\u001b[0;34m\u001b[0m\u001b[0m\n\u001b[0m\u001b[1;32m      2\u001b[0m     \u001b[0mprint\u001b[0m\u001b[0;34m(\u001b[0m\u001b[0;34m\"===\"\u001b[0m\u001b[0;34m)\u001b[0m\u001b[0;34m\u001b[0m\u001b[0;34m\u001b[0m\u001b[0m\n\u001b[1;32m      3\u001b[0m     \u001b[0mprint\u001b[0m\u001b[0;34m(\u001b[0m\u001b[0mt\u001b[0m\u001b[0;34m)\u001b[0m\u001b[0;34m\u001b[0m\u001b[0;34m\u001b[0m\u001b[0m\n\u001b[1;32m      4\u001b[0m     \u001b[0madd_block\u001b[0m\u001b[0;34m(\u001b[0m\u001b[0mt\u001b[0m\u001b[0;34m)\u001b[0m\u001b[0;34m\u001b[0m\u001b[0;34m\u001b[0m\u001b[0m\n",
                        "\u001b[0;31mTypeError\u001b[0m: string indices must be integers"
                    ]
                }
            ],
            "metadata": {}
        }
    ],
    "metadata": {
        "orig_nbformat": 4,
        "language_info": {
            "name": "python",
            "version": "3.8.10",
            "mimetype": "text/x-python",
            "codemirror_mode": {
                "name": "ipython",
                "version": 3
            },
            "pygments_lexer": "ipython3",
            "nbconvert_exporter": "python",
            "file_extension": ".py"
        },
        "kernelspec": {
            "name": "python3",
            "display_name": "Python 3.8.10 64-bit"
        },
        "interpreter": {
            "hash": "31f2aee4e71d21fbe5cf8b01ff0e069b9275f58929596ceb00d14d90e3e16cd6"
        }
    },
    "nbformat": 4,
    "nbformat_minor": 2
}