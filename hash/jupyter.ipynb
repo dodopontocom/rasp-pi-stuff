{
    "cells": [
        {
            "cell_type": "code",
            "execution_count": 1,
            "source": [
                "from hashlib import blake2b\n",
                "from hmac import compare_digest\n",
                "import json\n",
                "import time\n",
                "import subprocess\n",
                "import datetime"
            ],
            "outputs": [],
            "metadata": {}
        },
        {
            "cell_type": "code",
            "execution_count": 3,
            "source": [
                "e = 1628465829\n",
                "datetime_time = datetime.datetime.fromtimestamp(e)\n",
                "print(datetime_time)\n"
            ],
            "outputs": [
                {
                    "output_type": "stream",
                    "name": "stdout",
                    "text": [
                        "2021-08-08 20:37:09\n"
                    ]
                }
            ],
            "metadata": {}
        },
        {
            "cell_type": "code",
            "execution_count": 4,
            "source": [
                "\n",
                "f = open('genesis_block.json',)\n",
                "  \n",
                "# returns JSON object as \n",
                "# a dictionary\n",
                "data = json.load(f)\n",
                "  \n",
                "# Iterating through the json\n",
                "# list\n",
                "#for i in data['chain']:\n",
                "#    print(i)\n",
                "\n",
                "print(json.dumps(data).encode())\n",
                "#print(dir(json))\n",
                "\n",
                "# Closing file\n",
                "f.close()"
            ],
            "outputs": [
                {
                    "output_type": "stream",
                    "name": "stdout",
                    "text": [
                        "b'{\"hash\": \"000000000019d6689c085ae165831e934ff763ae46a2a6c172b3f1b60a8ce26f\", \"confirmations\": 194324, \"strippedsize\": 285, \"size\": 285, \"weight\": 1140, \"height\": 0, \"version\": 1, \"versionHex\": \"00000001\", \"merkleroot\": \"4a5e1e4baab89f3a32518a88c31bc87f618f76673e2cc77ab2127b7afdeda33b\", \"tx\": [\"4a5e1e4baab89f3a32518a88c31bc87f618f76673e2cc77ab2127b7afdeda33b\"], \"time\": 1231006505, \"mediantime\": 1231006505, \"nonce\": 2083236893, \"bits\": \"1d00ffff\", \"difficulty\": 1, \"chainwork\": \"0000000000000000000000000000000000000000000000000000000100010001\", \"nTx\": 1, \"nextblockhash\": \"00000000839a8e6886ab5951d76f411475428afc90947ee320161bbf18eb6048\"}'\n"
                    ]
                }
            ],
            "metadata": {}
        },
        {
            "cell_type": "code",
            "execution_count": 9,
            "source": [
                "AUTH_SIZE = 32\n",
                "S_KEY = str(subprocess.getoutput('arch')) + \"_\" + str(subprocess.getoutput('lsb_release -cs'))\n",
                "SECRET_KEY = S_KEY.encode()\n",
                "print(SECRET_KEY)"
            ],
            "outputs": [
                {
                    "output_type": "stream",
                    "name": "stdout",
                    "text": [
                        "b'aarch64_focal'\n"
                    ]
                }
            ],
            "metadata": {}
        },
        {
            "cell_type": "code",
            "execution_count": 3,
            "source": [
                "chain = [\n",
                "            {\n",
                "                \"remetente\": \"John\",\n",
                "                \"destinatario\": \"Peter\",\n",
                "                \"mensagem\": \"300\"\n",
                "            },\n",
                "            {\n",
                "                \"remetente\": \"Henry\",\n",
                "                \"destinatario\": \"Paul\",\n",
                "                \"mensagem\": \"120\"\n",
                "            }\n",
                "\n",
                "        ]\n",
                "block_chain = []"
            ],
            "outputs": [],
            "metadata": {}
        },
        {
            "cell_type": "code",
            "execution_count": 14,
            "source": [
                "json.dumps(chain).encode()"
            ],
            "outputs": [
                {
                    "output_type": "execute_result",
                    "data": {
                        "text/plain": [
                            "b'[{\"remetente\": \"John\", \"destinatario\": \"Peter\", \"mensagem\": \"300\"}, {\"remetente\": \"Henry\", \"destinatario\": \"Paul\", \"mensagem\": \"120\"}]'"
                        ]
                    },
                    "metadata": {},
                    "execution_count": 14
                }
            ],
            "metadata": {}
        },
        {
            "cell_type": "code",
            "execution_count": 4,
            "source": [
                "def get_time():\n",
                "    return time.time()"
            ],
            "outputs": [],
            "metadata": {}
        },
        {
            "cell_type": "code",
            "execution_count": 5,
            "source": [
                "def sign(cookie):\n",
                "    h = blake2b(digest_size=AUTH_SIZE, key=SECRET_KEY)\n",
                "    h.update(cookie)\n",
                "    return h.hexdigest()"
            ],
            "outputs": [],
            "metadata": {}
        },
        {
            "cell_type": "code",
            "execution_count": 10,
            "source": [
                "print(sign(\"eu sou legal\".encode()))"
            ],
            "outputs": [
                {
                    "output_type": "stream",
                    "name": "stdout",
                    "text": [
                        "e4fffa0d3441e81637d5a2703b481172868b6c18eeb7f7e40d445a167b6a3fdb\n"
                    ]
                }
            ],
            "metadata": {}
        }
    ],
    "metadata": {
        "orig_nbformat": 4,
        "language_info": {
            "name": "python",
            "version": "3.8.10",
            "mimetype": "text/x-python",
            "codemirror_mode": {
                "name": "ipython",
                "version": 3
            },
            "pygments_lexer": "ipython3",
            "nbconvert_exporter": "python",
            "file_extension": ".py"
        },
        "kernelspec": {
            "name": "python3",
            "display_name": "Python 3.8.10 64-bit"
        },
        "interpreter": {
            "hash": "916dbcbb3f70747c44a77c7bcd40155683ae19c65e1c03b4aa3499c5328201f1"
        }
    },
    "nbformat": 4,
    "nbformat_minor": 2
}