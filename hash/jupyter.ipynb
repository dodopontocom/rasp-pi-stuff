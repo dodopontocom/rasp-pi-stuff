{
    "cells": [
        {
            "cell_type": "code",
            "execution_count": 15,
            "source": [
                "from hashlib import blake2b\n",
                "from hmac import compare_digest\n",
                "import json\n",
                "import time\n",
                "import subprocess"
            ],
            "outputs": [],
            "metadata": {}
        },
        {
            "cell_type": "code",
            "execution_count": 16,
            "source": [
                "\n",
                "f = open('sample.json',)\n",
                "  \n",
                "# returns JSON object as \n",
                "# a dictionary\n",
                "data = json.load(f)\n",
                "  \n",
                "# Iterating through the json\n",
                "# list\n",
                "for i in data['chain']:\n",
                "    print(i)\n",
                "  \n",
                "# Closing file\n",
                "f.close()"
            ],
            "outputs": [
                {
                    "output_type": "error",
                    "ename": "KeyError",
                    "evalue": "'emp_details'",
                    "traceback": [
                        "\u001b[0;31m---------------------------------------------------------------------------\u001b[0m",
                        "\u001b[0;31mKeyError\u001b[0m                                  Traceback (most recent call last)",
                        "\u001b[0;32m/tmp/ipykernel_82190/3465760618.py\u001b[0m in \u001b[0;36m<module>\u001b[0;34m\u001b[0m\n\u001b[1;32m      7\u001b[0m \u001b[0;31m# Iterating through the json\u001b[0m\u001b[0;34m\u001b[0m\u001b[0;34m\u001b[0m\u001b[0;34m\u001b[0m\u001b[0m\n\u001b[1;32m      8\u001b[0m \u001b[0;31m# list\u001b[0m\u001b[0;34m\u001b[0m\u001b[0;34m\u001b[0m\u001b[0;34m\u001b[0m\u001b[0m\n\u001b[0;32m----> 9\u001b[0;31m \u001b[0;32mfor\u001b[0m \u001b[0mi\u001b[0m \u001b[0;32min\u001b[0m \u001b[0mdata\u001b[0m\u001b[0;34m[\u001b[0m\u001b[0;34m'emp_details'\u001b[0m\u001b[0;34m]\u001b[0m\u001b[0;34m:\u001b[0m\u001b[0;34m\u001b[0m\u001b[0;34m\u001b[0m\u001b[0m\n\u001b[0m\u001b[1;32m     10\u001b[0m     \u001b[0mprint\u001b[0m\u001b[0;34m(\u001b[0m\u001b[0mi\u001b[0m\u001b[0;34m)\u001b[0m\u001b[0;34m\u001b[0m\u001b[0;34m\u001b[0m\u001b[0m\n\u001b[1;32m     11\u001b[0m \u001b[0;34m\u001b[0m\u001b[0m\n",
                        "\u001b[0;31mKeyError\u001b[0m: 'emp_details'"
                    ]
                }
            ],
            "metadata": {}
        },
        {
            "cell_type": "code",
            "execution_count": 9,
            "source": [
                "AUTH_SIZE = 32\n",
                "S_KEY = str(subprocess.getoutput('arch')) + \"_\" + str(subprocess.getoutput('lsb_release -cs'))\n",
                "SECRET_KEY = S_KEY.encode()\n",
                "print(SECRET_KEY)"
            ],
            "outputs": [
                {
                    "output_type": "stream",
                    "name": "stdout",
                    "text": [
                        "b'aarch64_focal'\n"
                    ]
                }
            ],
            "metadata": {}
        },
        {
            "cell_type": "code",
            "execution_count": 3,
            "source": [
                "chain = [\n",
                "            {\n",
                "                \"remetente\": \"John\",\n",
                "                \"destinatario\": \"Peter\",\n",
                "                \"mensagem\": \"300\"\n",
                "            },\n",
                "            {\n",
                "                \"remetente\": \"Henry\",\n",
                "                \"destinatario\": \"Paul\",\n",
                "                \"mensagem\": \"120\"\n",
                "            }\n",
                "\n",
                "        ]\n",
                "block_chain = []"
            ],
            "outputs": [],
            "metadata": {}
        },
        {
            "cell_type": "code",
            "execution_count": 14,
            "source": [
                "json.dumps(chain).encode()"
            ],
            "outputs": [
                {
                    "output_type": "execute_result",
                    "data": {
                        "text/plain": [
                            "b'[{\"remetente\": \"John\", \"destinatario\": \"Peter\", \"mensagem\": \"300\"}, {\"remetente\": \"Henry\", \"destinatario\": \"Paul\", \"mensagem\": \"120\"}]'"
                        ]
                    },
                    "metadata": {},
                    "execution_count": 14
                }
            ],
            "metadata": {}
        },
        {
            "cell_type": "code",
            "execution_count": 4,
            "source": [
                "def get_time():\n",
                "    return time.time()"
            ],
            "outputs": [],
            "metadata": {}
        },
        {
            "cell_type": "code",
            "execution_count": 5,
            "source": [
                "def sign(cookie):\n",
                "    h = blake2b(digest_size=AUTH_SIZE, key=SECRET_KEY)\n",
                "    h.update(cookie)\n",
                "    return h.hexdigest()"
            ],
            "outputs": [],
            "metadata": {}
        },
        {
            "cell_type": "code",
            "execution_count": 10,
            "source": [
                "print(sign(\"eu sou legal\".encode()))"
            ],
            "outputs": [
                {
                    "output_type": "stream",
                    "name": "stdout",
                    "text": [
                        "e4fffa0d3441e81637d5a2703b481172868b6c18eeb7f7e40d445a167b6a3fdb\n"
                    ]
                }
            ],
            "metadata": {}
        }
    ],
    "metadata": {
        "orig_nbformat": 4,
        "language_info": {
            "name": "python",
            "version": "3.8.10",
            "mimetype": "text/x-python",
            "codemirror_mode": {
                "name": "ipython",
                "version": 3
            },
            "pygments_lexer": "ipython3",
            "nbconvert_exporter": "python",
            "file_extension": ".py"
        },
        "kernelspec": {
            "name": "python3",
            "display_name": "Python 3.8.10 64-bit"
        },
        "interpreter": {
            "hash": "916dbcbb3f70747c44a77c7bcd40155683ae19c65e1c03b4aa3499c5328201f1"
        }
    },
    "nbformat": 4,
    "nbformat_minor": 2
}