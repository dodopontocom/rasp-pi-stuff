{
    "cells": [
        {
            "cell_type": "code",
            "execution_count": 17,
            "source": [
                "from hashlib import blake2b\n",
                "from hmac import compare_digest\n",
                "import json\n",
                "import time\n",
                "import subprocess"
            ],
            "outputs": [],
            "metadata": {}
        },
        {
            "cell_type": "code",
            "execution_count": 18,
            "source": [
                "AUTH_SIZE = 32\n",
                "S_KEY = str(subprocess.getoutput('arch')) + \"_\" + str(subprocess.getoutput('lsb_release -cs'))\n",
                "SECRET_KEY = S_KEY.encode()"
            ],
            "outputs": [],
            "metadata": {}
        },
        {
            "cell_type": "code",
            "execution_count": 19,
            "source": [
                "chain = [\n",
                "            {\n",
                "                \"remetente\": \"John\",\n",
                "                \"destinatario\": \"Peter\",\n",
                "                \"mensagem\": \"300\"\n",
                "            },\n",
                "            {\n",
                "                \"remetente\": \"Henry\",\n",
                "                \"destinatario\": \"Paul\",\n",
                "                \"mensagem\": \"120\"\n",
                "            }\n",
                "\n",
                "        ]\n",
                "block_chain = []"
            ],
            "outputs": [],
            "metadata": {}
        },
        {
            "cell_type": "code",
            "execution_count": 20,
            "source": [
                "def get_time():\n",
                "    return time.time()"
            ],
            "outputs": [],
            "metadata": {}
        },
        {
            "cell_type": "code",
            "execution_count": 21,
            "source": [
                "def sign(cookie):\n",
                "    h = blake2b(digest_size=AUTH_SIZE, key=SECRET_KEY)\n",
                "    h.update(cookie)\n",
                "    return h.hexdigest()"
            ],
            "outputs": [],
            "metadata": {}
        },
        {
            "cell_type": "code",
            "execution_count": 22,
            "source": [
                "print(sign(\"teste\".encode()))"
            ],
            "outputs": [
                {
                    "output_type": "stream",
                    "name": "stdout",
                    "text": [
                        "10235b08a9632044b4c1d0cc0de93551517cfe7b40732cfbb5a395bacffc7eb6\n"
                    ]
                }
            ],
            "metadata": {}
        }
    ],
    "metadata": {
        "orig_nbformat": 4,
        "language_info": {
            "name": "python",
            "version": "3.8.10",
            "mimetype": "text/x-python",
            "codemirror_mode": {
                "name": "ipython",
                "version": 3
            },
            "pygments_lexer": "ipython3",
            "nbconvert_exporter": "python",
            "file_extension": ".py"
        },
        "kernelspec": {
            "name": "python3",
            "display_name": "Python 3.8.10 64-bit"
        },
        "interpreter": {
            "hash": "31f2aee4e71d21fbe5cf8b01ff0e069b9275f58929596ceb00d14d90e3e16cd6"
        }
    },
    "nbformat": 4,
    "nbformat_minor": 2
}