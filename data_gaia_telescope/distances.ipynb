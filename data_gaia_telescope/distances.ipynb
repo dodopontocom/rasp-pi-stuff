{
    "cells": [
        {
            "cell_type": "code",
            "execution_count": 1,
            "source": [
                "import numpy as np\n",
                "import pandas as pd\n",
                "import matplotlib.pyplot as plt\n",
                "from astropy.io.votable import parse\n",
                "from astropy.io.votable import validate\n",
                "import astropy.io.ascii.basic as asciicsv\n"
            ],
            "outputs": [],
            "metadata": {}
        },
        {
            "cell_type": "code",
            "execution_count": 2,
            "source": [
                "votable = parse(\"Cone_gaiaedr3.gaia_source_[56.75,24.11666667]_5.0.vot\")"
            ],
            "outputs": [],
            "metadata": {}
        },
        {
            "cell_type": "code",
            "execution_count": 3,
            "source": [
                "table = votable.get_first_table()"
            ],
            "outputs": [],
            "metadata": {}
        },
        {
            "cell_type": "code",
            "execution_count": 4,
            "source": [
                "data = table.array\n",
                "table.array['source_id']"
            ],
            "outputs": [
                {
                    "output_type": "execute_result",
                    "data": {
                        "text/plain": [
                            "masked_array(data=[b'166651396875092864', b'166651401170412928',\n",
                            "                   b'166651603033526016', ..., b'117245155414122624',\n",
                            "                   b'117245185477412992', b'117245189773860352'],\n",
                            "             mask=[False, False, False, ..., False, False, False],\n",
                            "       fill_value='?',\n",
                            "            dtype=object)"
                        ]
                    },
                    "metadata": {},
                    "execution_count": 4
                }
            ],
            "metadata": {}
        },
        {
            "cell_type": "code",
            "execution_count": 5,
            "source": [
                "#parse.__dict__\n",
                "#parse.columns\n",
                "#for resource in votable.resources:\n",
                "#    for table in resource.tables:\n",
                "#        print(table)\n",
                "#        pass\n",
                "\n",
                "for table in votable.iter_tables():\n",
                "    print(table)\n",
                "    pass"
            ],
            "outputs": [
                {
                    "output_type": "stream",
                    "name": "stdout",
                    "text": [
                        "    source_id              designation          ... phot_rp_mean_flux  ref_epoch\n",
                        "                                                ...       s**-1            yr   \n",
                        "------------------ ---------------------------- ... ------------------ ---------\n",
                        "166651396875092864 Gaia EDR3 166651396875092864 ... 123.20427020891182    2016.0\n",
                        "166651401170412928 Gaia EDR3 166651401170412928 ... 144.84409506183565    2016.0\n",
                        "166651603033526016 Gaia EDR3 166651603033526016 ... 1137.4658050482824    2016.0\n",
                        "166651603033526144 Gaia EDR3 166651603033526144 ...  363.2390382945034    2016.0\n",
                        "166651710408192128 Gaia EDR3 166651710408192128 ... 102.83601779421566    2016.0\n",
                        "166651710409920128 Gaia EDR3 166651710409920128 ...   9878.41790757012    2016.0\n",
                        "166651744767795840 Gaia EDR3 166651744767795840 ...  94.44077524157221    2016.0\n",
                        "166651774833863808 Gaia EDR3 166651774833863808 ... 151.93218610415545    2016.0\n",
                        "166651809191968000 Gaia EDR3 166651809191968000 ...  410.5839421132796    2016.0\n",
                        "166651809191970560 Gaia EDR3 166651809191970560 ... 1162.4137918004683    2016.0\n",
                        "               ...                          ... ...                ...       ...\n",
                        "117244807520271104 Gaia EDR3 117244807520271104 ...   96.2704977708067    2016.0\n",
                        "117244807520273920 Gaia EDR3 117244807520273920 ...  457.5971609631728    2016.0\n",
                        "117244811816739840 Gaia EDR3 117244811816739840 ... 1907.8311563216491    2016.0\n",
                        "117244876239758848 Gaia EDR3 117244876239758848 ...  166.3864208478961    2016.0\n",
                        "117244880535146368 Gaia EDR3 117244880535146368 ... 194.40145544864347    2016.0\n",
                        "117245082398194048 Gaia EDR3 117245082398194048 ...  796.7578743397972    2016.0\n",
                        "117245155413416832 Gaia EDR3 117245155413416832 ...  139.9306760842385    2016.0\n",
                        "117245155414122624 Gaia EDR3 117245155414122624 ... 1395.0118629780618    2016.0\n",
                        "117245185477412992 Gaia EDR3 117245185477412992 ... 499.75327279810557    2016.0\n",
                        "117245189773860352 Gaia EDR3 117245189773860352 ... 1522.1362414368941    2016.0\n",
                        "Length = 718270 rows\n"
                    ]
                }
            ],
            "metadata": {}
        },
        {
            "cell_type": "code",
            "execution_count": 7,
            "source": [
                "print(table)"
            ],
            "outputs": [
                {
                    "output_type": "stream",
                    "name": "stdout",
                    "text": [
                        "    source_id              designation          ... phot_rp_mean_flux  ref_epoch\n",
                        "                                                ...       s**-1            yr   \n",
                        "------------------ ---------------------------- ... ------------------ ---------\n",
                        "166651396875092864 Gaia EDR3 166651396875092864 ... 123.20427020891182    2016.0\n",
                        "166651401170412928 Gaia EDR3 166651401170412928 ... 144.84409506183565    2016.0\n",
                        "166651603033526016 Gaia EDR3 166651603033526016 ... 1137.4658050482824    2016.0\n",
                        "166651603033526144 Gaia EDR3 166651603033526144 ...  363.2390382945034    2016.0\n",
                        "166651710408192128 Gaia EDR3 166651710408192128 ... 102.83601779421566    2016.0\n",
                        "166651710409920128 Gaia EDR3 166651710409920128 ...   9878.41790757012    2016.0\n",
                        "166651744767795840 Gaia EDR3 166651744767795840 ...  94.44077524157221    2016.0\n",
                        "166651774833863808 Gaia EDR3 166651774833863808 ... 151.93218610415545    2016.0\n",
                        "166651809191968000 Gaia EDR3 166651809191968000 ...  410.5839421132796    2016.0\n",
                        "166651809191970560 Gaia EDR3 166651809191970560 ... 1162.4137918004683    2016.0\n",
                        "               ...                          ... ...                ...       ...\n",
                        "117244807520271104 Gaia EDR3 117244807520271104 ...   96.2704977708067    2016.0\n",
                        "117244807520273920 Gaia EDR3 117244807520273920 ...  457.5971609631728    2016.0\n",
                        "117244811816739840 Gaia EDR3 117244811816739840 ... 1907.8311563216491    2016.0\n",
                        "117244876239758848 Gaia EDR3 117244876239758848 ...  166.3864208478961    2016.0\n",
                        "117244880535146368 Gaia EDR3 117244880535146368 ... 194.40145544864347    2016.0\n",
                        "117245082398194048 Gaia EDR3 117245082398194048 ...  796.7578743397972    2016.0\n",
                        "117245155413416832 Gaia EDR3 117245155413416832 ...  139.9306760842385    2016.0\n",
                        "117245155414122624 Gaia EDR3 117245155414122624 ... 1395.0118629780618    2016.0\n",
                        "117245185477412992 Gaia EDR3 117245185477412992 ... 499.75327279810557    2016.0\n",
                        "117245189773860352 Gaia EDR3 117245189773860352 ... 1522.1362414368941    2016.0\n",
                        "Length = 718270 rows\n"
                    ]
                }
            ],
            "metadata": {}
        },
        {
            "cell_type": "code",
            "execution_count": 6,
            "source": [
                "plt.style.use('dark_background')\n",
                "plt.rc('font', size = 15)"
            ],
            "outputs": [],
            "metadata": {}
        },
        {
            "cell_type": "code",
            "execution_count": 31,
            "source": [
                "plt.figure(figsize = (10,8))\n",
                "plt.scatter(table.array['ra'],table.array['dec'], s=5, alpha=0.01, color=\"red\")\n",
                "plt.xlabel('RA')\n",
                "plt.ylabel('DEC')\n",
                "plt.show()"
            ],
            "outputs": [],
            "metadata": {}
        }
    ],
    "metadata": {
        "orig_nbformat": 4,
        "language_info": {
            "name": "python",
            "version": "3.8.10",
            "mimetype": "text/x-python",
            "codemirror_mode": {
                "name": "ipython",
                "version": 3
            },
            "pygments_lexer": "ipython3",
            "nbconvert_exporter": "python",
            "file_extension": ".py"
        },
        "kernelspec": {
            "name": "python3",
            "display_name": "Python 3.8.10 64-bit"
        },
        "interpreter": {
            "hash": "916dbcbb3f70747c44a77c7bcd40155683ae19c65e1c03b4aa3499c5328201f1"
        }
    },
    "nbformat": 4,
    "nbformat_minor": 2
}